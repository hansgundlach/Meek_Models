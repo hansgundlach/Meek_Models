{
 "cells": [
  {
   "cell_type": "code",
   "execution_count": 3,
   "metadata": {},
   "outputs": [],
   "source": [
    "import pandas as pd\n",
    "import matplotlib.pyplot as plt\n",
    "import matplotlib.dates as mdates\n",
    "from datetime import datetime\n",
    "from matplotlib.dates import date2num, DateFormatter\n",
    "from sklearn.linear_model import LinearRegression\n",
    "import numpy as np\n"
   ]
  },
  {
   "cell_type": "code",
   "execution_count": 8,
   "metadata": {},
   "outputs": [
    {
     "name": "stderr",
     "output_type": "stream",
     "text": [
      "/var/folders/lp/hk0h_6g94b59251kmlwhp32h0000gn/T/ipykernel_35570/521585596.py:30: SettingWithCopyWarning: \n",
      "A value is trying to be set on a copy of a slice from a DataFrame\n",
      "\n",
      "See the caveats in the documentation: https://pandas.pydata.org/pandas-docs/stable/user_guide/indexing.html#returning-a-view-versus-a-copy\n",
      "  small.sort_values(\"date\", inplace=True)\n",
      "/var/folders/lp/hk0h_6g94b59251kmlwhp32h0000gn/T/ipykernel_35570/521585596.py:37: SettingWithCopyWarning: \n",
      "A value is trying to be set on a copy of a slice from a DataFrame\n",
      "\n",
      "See the caveats in the documentation: https://pandas.pydata.org/pandas-docs/stable/user_guide/indexing.html#returning-a-view-versus-a-copy\n",
      "  big.sort_values(\"date\", inplace=True)\n",
      "/var/folders/lp/hk0h_6g94b59251kmlwhp32h0000gn/T/ipykernel_35570/521585596.py:44: SettingWithCopyWarning: \n",
      "A value is trying to be set on a copy of a slice from a DataFrame\n",
      "\n",
      "See the caveats in the documentation: https://pandas.pydata.org/pandas-docs/stable/user_guide/indexing.html#returning-a-view-versus-a-copy\n",
      "  extra_small.sort_values(\"date\", inplace=True)\n"
     ]
    },
    {
     "data": {
      "text/plain": [
       "<matplotlib.legend.Legend at 0x7f84990c83d0>"
      ]
     },
     "execution_count": 8,
     "metadata": {},
     "output_type": "execute_result"
    },
    {
     "data": {
      "image/png": "[encoded data removed]",
      "text/plain": [
       "<Figure size 640x480 with 1 Axes>"
      ]
     },
     "metadata": {},
     "output_type": "display_data"
    }
   ],
   "source": [
    "\n",
    "df = pd.read_csv(\"ModelBenchDates.csv\", parse_dates=[\"creation_date\"], dayfirst=True)\n",
    "df[\"date\"] = pd.to_datetime(df[\"creation_date\"])\n",
    "# removes elements with 0 parameters\n",
    "df.dropna(subset=[\"#Params (B)\"])\n",
    "df = df[df[\"#Params (B)\"] > 0]\n",
    "\n",
    "# df[\"date\"] = df[\"date\"].apply(date2num)\n",
    "\n",
    "\n",
    "# plt.scatter(df['date'], df['#Params (B)'])\n",
    "extra_small = df[(df[\"#Params (B)\"] < 1) & (df[\"#Params (B)\"] > 0.1)]\n",
    "small = df[(df[\"#Params (B)\"] < 5) & (df[\"#Params (B)\"] > 1)]\n",
    "big = df[(df[\"#Params (B)\"] > 20) & (df[\"#Params (B)\"] < 25)]\n",
    "# plt.scatter(small['date'], small['Average'], color='red')\n",
    "# plt.scatter(big['date'], big['Average'], color='green')\n",
    "\n",
    "\n",
    "# track max over time\n",
    "# sort df by date\n",
    "df.sort_values(\"date\", inplace=True)\n",
    "maxs = []\n",
    "for i in range(len(df)):\n",
    "    maxs.append(df[\"Average\"][:i].max())\n",
    "plt.scatter(df[\"date\"], maxs, color=\"blue\")\n",
    "# make x ticks sideways\n",
    "plt.xticks(rotation=45)\n",
    "\n",
    "\n",
    "# now do same with small\n",
    "small.sort_values(\"date\", inplace=True)\n",
    "maxs = []\n",
    "for i in range(len(small)):\n",
    "    maxs.append(small[\"Average\"][:i].max())\n",
    "plt.scatter(small[\"date\"], maxs, color=\"purple\", label=\"Small\")\n",
    "\n",
    "\n",
    "big.sort_values(\"date\", inplace=True)\n",
    "maxs = []\n",
    "for i in range(len(big)):\n",
    "    maxs.append(big[\"Average\"][:i].max())\n",
    "plt.scatter(big[\"date\"], maxs, color=\"green\", label=\"Big\")\n",
    "\n",
    "\n",
    "extra_small.sort_values(\"date\", inplace=True)\n",
    "maxs = []\n",
    "for i in range(len(extra_small)):\n",
    "    maxs.append(extra_small[\"Average\"][:i].max())\n",
    "plt.scatter(extra_small[\"date\"], maxs, color=\"red\", label=\"Extra Small\")\n",
    "plt.yscale(\"log\")\n",
    "plt.legend()\n"
   ]
  },
  {
   "cell_type": "code",
   "execution_count": null,
   "metadata": {},
   "outputs": [],
   "source": [
    "#plot the performance of small models over time \n",
    "plt.scatter(small['date'], small['Average'], color='red')\n",
    "plt.scatter(big['date'], big['Average'], color='green')"
   ]
  },
  {
   "cell_type": "code",
   "execution_count": null,
   "metadata": {},
   "outputs": [],
   "source": [
    "# graph the distribtuion of \"Average\" across dataset\n",
    "plt.hist(df[\"Average\"], bins=100)\n",
    "\n"
   ]
  },
  {
   "cell_type": "code",
   "execution_count": null,
   "metadata": {},
   "outputs": [],
   "source": [
    "\n",
    "good_perform = df[(df[\"Average\"] > 70) & (df[\"Average\"] < 100)]\n",
    "good_perform[\"popularity\"] = good_perform[\"Hub â€šÃ¹Â§Ã”âˆÃ¨\"]\n",
    "good_perform = good_perform[good_perform[\"popularity\"] < 200]\n",
    "plt.scatter(good_perform[\"TruthfulQA\"], good_perform[\"popularity\"])\n",
    "plt.xlabel(\"TruthfulQA\")\n",
    "plt.ylabel(\"popularity\")"
   ]
  },
  {
   "cell_type": "code",
   "execution_count": null,
   "metadata": {},
   "outputs": [],
   "source": [
    "\n",
    "plt.scatter(good_perform[\"date\"], good_perform[\"#Params (B)\"], color=\"blue\")\n",
    "plt.yscale(\"log\")\n",
    "\n",
    "\n",
    "\n"
   ]
  },
  {
   "cell_type": "code",
   "execution_count": null,
   "metadata": {},
   "outputs": [],
   "source": [
    "\n",
    "# now hold performance constant and see how min params changes\n",
    "good_perform.sort_values(\"date\", inplace=True)\n",
    "mins = []\n",
    "for i in range(len(good_perform)):\n",
    "    mins.append(good_perform[\"#Params (B)\"][:i].min())\n",
    "plt.scatter(good_perform[\"date\"], mins, color=\"purple\")\n",
    "plt.yscale(\"log\")\n",
    "\n"
   ]
  },
  {
   "cell_type": "code",
   "execution_count": null,
   "metadata": {},
   "outputs": [],
   "source": [
    "# Initialize lists to store the first minimum parameters and corresponding dates\n",
    "firstmindate = []\n",
    "firstminparams = []\n",
    "minparam = float(\"inf\")\n",
    "\n",
    "good  = good_perform\n",
    "good['Parameters'] = good['#Params (B)']\n",
    "# Loop through the dataframe to find the first minimum parameters\n",
    "for i in range(len(good)):\n",
    "    if minparam > good[\"Parameters\"].iloc[i]:\n",
    "        date = good[\"date\"].iloc[i]\n",
    "        if pd.notna(date):\n",
    "            firstmindate.append(date)\n",
    "            firstminparams.append(good[\"Parameters\"].iloc[i])\n",
    "            minparam = good[\"Parameters\"].iloc[i]\n",
    "\n",
    "# Plot the data\n",
    "plt.scatter(firstmindate, firstminparams, color=\"red\")\n",
    "plt.xlabel('Date')\n",
    "plt.ylabel('Parameters')\n",
    "plt.title('First Minimum Parameters Over Time')\n",
    "plt.yscale('log')\n",
    "plt.show()\n"
   ]
  },
  {
   "cell_type": "code",
   "execution_count": null,
   "metadata": {},
   "outputs": [],
   "source": [
    "#comparing two "
   ]
  }
 ],
 "metadata": {
  "kernelspec": {
   "display_name": "othello",
   "language": "python",
   "name": "python3"
  },
  "language_info": {
   "codemirror_mode": {
    "name": "ipython",
    "version": 3
   },
   "file_extension": ".py",
   "mimetype": "text/x-python",
   "name": "python",
   "nbconvert_exporter": "python",
   "pygments_lexer": "ipython3",
   "version": "3.9.7"
  }
 },
 "nbformat": 4,
 "nbformat_minor": 2
}
