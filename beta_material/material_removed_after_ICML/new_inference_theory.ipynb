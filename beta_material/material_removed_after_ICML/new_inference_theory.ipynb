{
 "cells": [
  {
   "cell_type": "code",
   "execution_count": 1,
   "metadata": {},
   "outputs": [],
   "source": [
    "\n",
    "dollar_to_flop = 1e17\n",
    "alg_gains_train = 2.8 # improvement in algorithmic compute efficency each year\n",
    "alg_gains = alg_gains_train\n",
    "hardware_gains = 1.4 #increase in GPU Flops/dollar each year\n",
    "sota_compute_growth = 5/hardware_gains # model compute budget grows five fold each year\n",
    "inference_cost = .000143 # cost per inference in dollars\n",
    "alg_gains_inf = 2.8 # improvement in algorithmic compute efficency each year for inference\n",
    "# cost_per_flop_year = 0.8\n",
    "start_capital = 1000\n",
    "flop_year_zero = start_capital*dollar_to_flop"
   ]
  },
  {
   "cell_type": "code",
   "execution_count": null,
   "metadata": {},
   "outputs": [],
   "source": []
  }
 ],
 "metadata": {
  "kernelspec": {
   "display_name": "othello",
   "language": "python",
   "name": "python3"
  },
  "language_info": {
   "codemirror_mode": {
    "name": "ipython",
    "version": 3
   },
   "file_extension": ".py",
   "mimetype": "text/x-python",
   "name": "python",
   "nbconvert_exporter": "python",
   "pygments_lexer": "ipython3",
   "version": "3.9.7"
  }
 },
 "nbformat": 4,
 "nbformat_minor": 2
}
